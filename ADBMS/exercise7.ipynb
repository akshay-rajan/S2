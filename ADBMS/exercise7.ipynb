{
 "cells": [
  {
   "cell_type": "markdown",
   "metadata": {},
   "source": [
    "# PyMongo"
   ]
  },
  {
   "cell_type": "code",
   "execution_count": 1,
   "metadata": {},
   "outputs": [],
   "source": [
    "import pymongo"
   ]
  },
  {
   "cell_type": "markdown",
   "metadata": {},
   "source": [
    "## Connection"
   ]
  },
  {
   "cell_type": "code",
   "execution_count": 2,
   "metadata": {},
   "outputs": [],
   "source": [
    "url = \"mongodb://localhost:27017\"\n",
    "client = pymongo.MongoClient(url)\n",
    "db = client[\"college\"]\n",
    "collection = db[\"studlist\"]"
   ]
  },
  {
   "cell_type": "markdown",
   "metadata": {},
   "source": [
    "## Questions"
   ]
  },
  {
   "cell_type": "markdown",
   "metadata": {},
   "source": [
    "#### 1. Name and Mark of all Female students in MCA "
   ]
  },
  {
   "cell_type": "code",
   "execution_count": 13,
   "metadata": {},
   "outputs": [
    {
     "name": "stdout",
     "output_type": "stream",
     "text": [
      "Name: Athira Krishnan, Marks: 80\n",
      "Name: Divya Vijayan, Marks: 70\n",
      "Name: Renuka Vijayan, Marks: 82\n",
      "Name: Remya V, Marks: 85\n",
      "Name: Remya Sugunan, Marks: 72\n",
      "Name: Vidhya Sugunan, Marks: 79\n",
      "Name: Soorya S, Marks: 79\n",
      "Name: Amritha S, Marks: 99\n",
      "Name: Soorya P, Marks: 74\n"
     ]
    }
   ],
   "source": [
    "for student in collection.find({\"gender\": \"female\", \"course\": \"MCA\"}):\n",
    "    print(f\"Name: {student['name']['fname']} {student['name']['lname']}, Marks: {student['mark']}\")"
   ]
  },
  {
   "cell_type": "code",
   "execution_count": 19,
   "metadata": {},
   "outputs": [],
   "source": [
    "def print_details(student):\n",
    "    \"\"\"Function to print all details of a student\"\"\"\n",
    "    print(f\"\"\"\n",
    "Name: {student['name']['fname']} {student['name']['lname']}\n",
    "Address: {student['address']['house_name']}, {student['address']['city']}, Gender: {student['gender']}\n",
    "Course: {student['course']}, Mark: {student['mark']}, Grade: {student['grade']}\n",
    "Phone: {student['phone']['no']} ({student['phone']['type']})\n",
    "\"\"\")"
   ]
  },
  {
   "cell_type": "markdown",
   "metadata": {},
   "source": [
    "#### 2. Student who scored the highest mark in MCA"
   ]
  },
  {
   "cell_type": "code",
   "execution_count": 20,
   "metadata": {},
   "outputs": [
    {
     "name": "stdout",
     "output_type": "stream",
     "text": [
      "\n",
      "Name: Amritha S\n",
      "Address: Arya Bhavan, Varkala, Gender: female\n",
      "Course: MCA, Mark: 99, Grade: A+\n",
      "Phone: 9445365787 (mobile)\n",
      "\n"
     ]
    }
   ],
   "source": [
    "topper = collection.find({\"course\": \"MCA\"}).sort(\"mark\", -1).limit(1)\n",
    "print_details(topper[0])"
   ]
  },
  {
   "cell_type": "markdown",
   "metadata": {},
   "source": [
    "#### 3. All male students who secured A+"
   ]
  },
  {
   "cell_type": "code",
   "execution_count": 21,
   "metadata": {},
   "outputs": [
    {
     "name": "stdout",
     "output_type": "stream",
     "text": [
      "\n",
      "Name: Vimal Vinayan\n",
      "Address: Vimala Bhavan, Kollam, Gender: male\n",
      "Course: Mechanical, Mark: 90, Grade: A+\n",
      "Phone: 8185399780 (mobile)\n",
      "\n",
      "\n",
      "Name: Vimal Bose\n",
      "Address: Vimalam, Ernakulam, Gender: male\n",
      "Course: MCA, Mark: 90, Grade: A+\n",
      "Phone: 9485399780 (mobile)\n",
      "\n",
      "\n",
      "Name: Arun S\n",
      "Address: Arun Bhavan, Attingal, Gender: male\n",
      "Course: MCA, Mark: 91, Grade: A+\n",
      "Phone: 9445366987 (mobile)\n",
      "\n"
     ]
    }
   ],
   "source": [
    "for student in collection.find({\"gender\": \"male\", \"grade\": \"A+\"}):\n",
    "    print_details(student)"
   ]
  },
  {
   "cell_type": "markdown",
   "metadata": {},
   "source": [
    "#### 4. Top 3 Students in Mechanical Department"
   ]
  },
  {
   "cell_type": "code",
   "execution_count": 22,
   "metadata": {},
   "outputs": [
    {
     "name": "stdout",
     "output_type": "stream",
     "text": [
      "\n",
      "Name: Kavya Mohan\n",
      "Address: Kavyanjali, Kollam, Gender: female\n",
      "Course: Mechanical, Mark: 95, Grade: A+\n",
      "Phone: 9448399780 (mobile)\n",
      "\n",
      "\n",
      "Name: Vimal Vinayan\n",
      "Address: Vimala Bhavan, Kollam, Gender: male\n",
      "Course: Mechanical, Mark: 90, Grade: A+\n",
      "Phone: 8185399780 (mobile)\n",
      "\n",
      "\n",
      "Name: Yadu Kannan\n",
      "Address: Sreenilayam, Kollam, Gender: male\n",
      "Course: Mechanical, Mark: 85, Grade: A\n",
      "Phone: 9446321780 (mobile)\n",
      "\n"
     ]
    }
   ],
   "source": [
    "mech_toppers = collection.find({\"course\": \"Mechanical\"}).sort(\"mark\", -1).limit(3)\n",
    "for student in mech_toppers:\n",
    "    print_details(student)"
   ]
  },
  {
   "cell_type": "markdown",
   "metadata": {},
   "source": [
    "#### 5. Female Students who have secured more than 90"
   ]
  },
  {
   "cell_type": "code",
   "execution_count": 24,
   "metadata": {},
   "outputs": [
    {
     "name": "stdout",
     "output_type": "stream",
     "text": [
      "\n",
      "Name: Kavya Mohan\n",
      "Grade: A+, Mark: 95\n",
      "Contact: 9448399780 (mobile)\n",
      "\n",
      "\n",
      "Name: Amritha S\n",
      "Grade: A+, Mark: 99\n",
      "Contact: 9445365787 (mobile)\n",
      "\n"
     ]
    }
   ],
   "source": [
    "for student in collection.find({\"gender\": \"female\", \"mark\": {\"$gt\": 90}}):\n",
    "    print(f\"\"\"\n",
    "Name: {student['name']['fname']} {student['name']['lname']}\n",
    "Grade: {student['grade']}, Mark: {student['mark']}\n",
    "Contact: {student['phone']['no']} ({student['phone']['type']})\n",
    "\"\"\")"
   ]
  },
  {
   "cell_type": "markdown",
   "metadata": {},
   "source": [
    "#### 6. Students who scored marks in between 80 and 90"
   ]
  },
  {
   "cell_type": "code",
   "execution_count": 25,
   "metadata": {},
   "outputs": [
    {
     "name": "stdout",
     "output_type": "stream",
     "text": [
      "\n",
      "Name: Vidhya S\n",
      "Address: MRS House, Kadakkavoor, Gender: female\n",
      "Course: Civil, Mark: 85, Grade: A\n",
      "Phone: 8146321420 (mobile)\n",
      "\n",
      "\n",
      "Name: Yadu Kannan\n",
      "Address: Sreenilayam, Kollam, Gender: male\n",
      "Course: Mechanical, Mark: 85, Grade: A\n",
      "Phone: 9446321780 (mobile)\n",
      "\n",
      "\n",
      "Name: Renuka Vijayan\n",
      "Address: Sreevilasam, Thiruvananthapuram, Gender: female\n",
      "Course: MCA, Mark: 82, Grade: A\n",
      "Phone: 04712547890 (land)\n",
      "\n",
      "\n",
      "Name: Remya V\n",
      "Address: Sree, Thiruvananthapuram, Gender: female\n",
      "Course: MCA, Mark: 85, Grade: A\n",
      "Phone: 04712647890 (land)\n",
      "\n"
     ]
    }
   ],
   "source": [
    "for student in collection.find({\"mark\": {\"$gt\": 80, \"$lt\": 90}}):\n",
    "    print_details(student)"
   ]
  },
  {
   "cell_type": "markdown",
   "metadata": {},
   "source": [
    "#### 7. Students whose name starts with 'V'"
   ]
  },
  {
   "cell_type": "code",
   "execution_count": 26,
   "metadata": {},
   "outputs": [
    {
     "name": "stdout",
     "output_type": "stream",
     "text": [
      "\n",
      "Name: Varun Nair\n",
      "Address: Koustubham, Thiruvananthapuram, Gender: male\n",
      "Course: MCA, Mark: 70, Grade: B+\n",
      "Phone: 04712662690 (land)\n",
      "\n",
      "\n",
      "Name: Vidhya S\n",
      "Address: MRS House, Kadakkavoor, Gender: female\n",
      "Course: Civil, Mark: 85, Grade: A\n",
      "Phone: 8146321420 (mobile)\n",
      "\n",
      "\n",
      "Name: Vivek Bose\n",
      "Address: Kallu, Ernakulam, Gender: male\n",
      "Course: MCA, Mark: 60, Grade: B\n",
      "Phone: 04842663890 (land)\n",
      "\n",
      "\n",
      "Name: Vimal Vinayan\n",
      "Address: Vimala Bhavan, Kollam, Gender: male\n",
      "Course: Mechanical, Mark: 90, Grade: A+\n",
      "Phone: 8185399780 (mobile)\n",
      "\n",
      "\n",
      "Name: Vimal Bose\n",
      "Address: Vimalam, Ernakulam, Gender: male\n",
      "Course: MCA, Mark: 90, Grade: A+\n",
      "Phone: 9485399780 (mobile)\n",
      "\n",
      "\n",
      "Name: Vinod Paniker\n",
      "Address: Deepam, Ernakulam, Gender: male\n",
      "Course: MCA, Mark: 70, Grade: B\n",
      "Phone: 9445399787 (mobile)\n",
      "\n",
      "\n",
      "Name: Vidhya Sugunan\n",
      "Address: vidhya vilasam, Thiruvananthapuram, Gender: female\n",
      "Course: MCA, Mark: 79, Grade: B+\n",
      "Phone: 04712647790 (land)\n",
      "\n"
     ]
    }
   ],
   "source": [
    "for student in collection.find({\"name.fname\": {\"$regex\": \"^V\"}}):\n",
    "    print_details(student)"
   ]
  },
  {
   "cell_type": "markdown",
   "metadata": {},
   "source": [
    "#### 8. All students from Kollam"
   ]
  },
  {
   "cell_type": "code",
   "execution_count": 27,
   "metadata": {},
   "outputs": [
    {
     "name": "stdout",
     "output_type": "stream",
     "text": [
      "\n",
      "Name: Athira Krishnan\n",
      "Address: Ambadi, Kollam, Gender: female\n",
      "Course: MCA, Mark: 80, Grade: A\n",
      "Phone: 9896321450 (mobile)\n",
      "\n",
      "\n",
      "Name: Yadu Kannan\n",
      "Address: Sreenilayam, Kollam, Gender: male\n",
      "Course: Mechanical, Mark: 85, Grade: A\n",
      "Phone: 9446321780 (mobile)\n",
      "\n",
      "\n",
      "Name: Kavya Mohan\n",
      "Address: Kavyanjali, Kollam, Gender: female\n",
      "Course: Mechanical, Mark: 95, Grade: A+\n",
      "Phone: 9448399780 (mobile)\n",
      "\n",
      "\n",
      "Name: Vimal Vinayan\n",
      "Address: Vimala Bhavan, Kollam, Gender: male\n",
      "Course: Mechanical, Mark: 90, Grade: A+\n",
      "Phone: 8185399780 (mobile)\n",
      "\n",
      "\n",
      "Name: Jabin S\n",
      "Address: Deepam, Kollam, Gender: male\n",
      "Course: Civil, Mark: 70, Grade: B\n",
      "Phone: 9485399787 (mobile)\n",
      "\n",
      "\n",
      "Name: Arya Satheesh\n",
      "Address: Arya Bhavan, Kollam, Gender: female\n",
      "Course: Civil, Mark: 90, Grade: A+\n",
      "Phone: 9445399787 (mobile)\n",
      "\n"
     ]
    }
   ],
   "source": [
    "for student in collection.find({\"address.city\": \"Kollam\"}):\n",
    "    print_details(student)"
   ]
  },
  {
   "cell_type": "markdown",
   "metadata": {},
   "source": [
    "#### 9. Students who does not belong to neither Kollam nor Thiruvananthapuram"
   ]
  },
  {
   "cell_type": "code",
   "execution_count": 28,
   "metadata": {},
   "outputs": [
    {
     "name": "stdout",
     "output_type": "stream",
     "text": [
      "\n",
      "Name: Arya S\n",
      "Address: M.B.S.Bhavan, Varkala, Gender: female\n",
      "Course: Computer Science, Mark: 90, Grade: A+\n",
      "Phone: 9446321420 (mobile)\n",
      "\n",
      "\n",
      "Name: Vidhya S\n",
      "Address: MRS House, Kadakkavoor, Gender: female\n",
      "Course: Civil, Mark: 85, Grade: A\n",
      "Phone: 8146321420 (mobile)\n",
      "\n",
      "\n",
      "Name: Vivek Bose\n",
      "Address: Kallu, Ernakulam, Gender: male\n",
      "Course: MCA, Mark: 60, Grade: B\n",
      "Phone: 04842663890 (land)\n",
      "\n",
      "\n",
      "Name: Divya Vijayan\n",
      "Address: Divyalayam, Varkala, Gender: female\n",
      "Course: MCA, Mark: 70, Grade: B+\n",
      "Phone: 04702667890 (land)\n",
      "\n",
      "\n",
      "Name: Vimal Bose\n",
      "Address: Vimalam, Ernakulam, Gender: male\n",
      "Course: MCA, Mark: 90, Grade: A+\n",
      "Phone: 9485399780 (mobile)\n",
      "\n",
      "\n",
      "Name: Vinod Paniker\n",
      "Address: Deepam, Ernakulam, Gender: male\n",
      "Course: MCA, Mark: 70, Grade: B\n",
      "Phone: 9445399787 (mobile)\n",
      "\n",
      "\n",
      "Name: Amritha S\n",
      "Address: Arya Bhavan, Varkala, Gender: female\n",
      "Course: MCA, Mark: 99, Grade: A+\n",
      "Phone: 9445365787 (mobile)\n",
      "\n",
      "\n",
      "Name: Arun S\n",
      "Address: Arun Bhavan, Attingal, Gender: male\n",
      "Course: MCA, Mark: 91, Grade: A+\n",
      "Phone: 9445366987 (mobile)\n",
      "\n",
      "\n",
      "Name: Abhilash S\n",
      "Address: Dhanya Bhavan, Attingal, Gender: male\n",
      "Course: Mechanical, Mark: 75, Grade: B+\n",
      "Phone: 8182366987 (mobile)\n",
      "\n",
      "\n",
      "Name: Sree Raj\n",
      "Address: Sree, Varkala, Gender: male\n",
      "Course: Civil, Mark: 74, Grade: B+\n",
      "Phone: 04702721890 (land)\n",
      "\n"
     ]
    }
   ],
   "source": [
    "not_kollam_nor_tvm = collection.find({\"address.city\":  {\"$nin\": [\"Thiruvananthapuram\", \"Kollam\"]}})\n",
    "for student in not_kollam_nor_tvm:\n",
    "    print_details(student)"
   ]
  },
  {
   "cell_type": "markdown",
   "metadata": {},
   "source": [
    "#### 10. Female students who belong to either Kollam or Thiruvananthapuram"
   ]
  },
  {
   "cell_type": "code",
   "execution_count": 29,
   "metadata": {},
   "outputs": [
    {
     "name": "stdout",
     "output_type": "stream",
     "text": [
      "\n",
      "Name: Athira Krishnan\n",
      "Address: Ambadi, Kollam, Gender: female\n",
      "Course: MCA, Mark: 80, Grade: A\n",
      "Phone: 9896321450 (mobile)\n",
      "\n",
      "\n",
      "Name: Kavya Mohan\n",
      "Address: Kavyanjali, Kollam, Gender: female\n",
      "Course: Mechanical, Mark: 95, Grade: A+\n",
      "Phone: 9448399780 (mobile)\n",
      "\n",
      "\n",
      "Name: Renuka Vijayan\n",
      "Address: Sreevilasam, Thiruvananthapuram, Gender: female\n",
      "Course: MCA, Mark: 82, Grade: A\n",
      "Phone: 04712547890 (land)\n",
      "\n",
      "\n",
      "Name: Remya V\n",
      "Address: Sree, Thiruvananthapuram, Gender: female\n",
      "Course: MCA, Mark: 85, Grade: A\n",
      "Phone: 04712647890 (land)\n",
      "\n",
      "\n",
      "Name: Remya Sugunan\n",
      "Address: Remya vilasam, Thiruvananthapuram, Gender: female\n",
      "Course: MCA, Mark: 72, Grade: B+\n",
      "Phone: 04712648890 (land)\n",
      "\n",
      "\n",
      "Name: Vidhya Sugunan\n",
      "Address: vidhya vilasam, Thiruvananthapuram, Gender: female\n",
      "Course: MCA, Mark: 79, Grade: B+\n",
      "Phone: 04712647790 (land)\n",
      "\n",
      "\n",
      "Name: Arya Satheesh\n",
      "Address: Arya Bhavan, Kollam, Gender: female\n",
      "Course: Civil, Mark: 90, Grade: A+\n",
      "Phone: 9445399787 (mobile)\n",
      "\n",
      "\n",
      "Name: Soorya S\n",
      "Address: Meena Bhavan, Thiruvananthapuram, Gender: female\n",
      "Course: MCA, Mark: 79, Grade: B+\n",
      "Phone: 04712647890 (land)\n",
      "\n",
      "\n",
      "Name: Soorya P\n",
      "Address: Soorya Bhavan, Thiruvananthapuram, Gender: female\n",
      "Course: MCA, Mark: 74, Grade: B+\n",
      "Phone: 04712641890 (land)\n",
      "\n"
     ]
    }
   ],
   "source": [
    "kollam_or_tvm = collection.find({\"gender\": \"female\", \"$or\": [{\"address.city\": \"Thiruvananthapuram\"}, {\"address.city\": \"Kollam\"}]})\n",
    "for student in kollam_or_tvm:\n",
    "    print_details(student)"
   ]
  },
  {
   "cell_type": "markdown",
   "metadata": {},
   "source": [
    "## Insertion"
   ]
  },
  {
   "cell_type": "code",
   "execution_count": 32,
   "metadata": {},
   "outputs": [
    {
     "name": "stdout",
     "output_type": "stream",
     "text": [
      "\n",
      "Name: John Doe\n",
      "Address: BS34X, Atlantis, Gender: male\n",
      "Course: MCA, Mark: 80, Grade: A\n",
      "Phone: 8888888888 (mobile)\n",
      "\n"
     ]
    }
   ],
   "source": [
    "student = {'_id': 26, 'name': {'fname': 'John', 'lname': 'Doe'}, 'address': {'house_name': 'BS34X', 'city': 'Atlantis'}, 'gender': 'male', 'course': 'MCA', 'mark': 80, 'grade': 'A', 'phone': {'type': 'mobile', 'no': 8888888888}}\n",
    "collection.insert_one(student)\n",
    "\n",
    "print_details(collection.find_one({\"_id\": 26}))"
   ]
  },
  {
   "cell_type": "markdown",
   "metadata": {},
   "source": [
    "## Updation"
   ]
  },
  {
   "cell_type": "code",
   "execution_count": 33,
   "metadata": {},
   "outputs": [
    {
     "name": "stdout",
     "output_type": "stream",
     "text": [
      "\n",
      "Name: Don Joe\n",
      "Address: BS34X, Atlantis, Gender: male\n",
      "Course: MCA, Mark: 80, Grade: A\n",
      "Phone: 8888888888 (mobile)\n",
      "\n"
     ]
    }
   ],
   "source": [
    "query = {\"_id\": 26}\n",
    "newval = {\"$set\": {\"name.fname\": \"Don\", \"name.lname\": \"Joe\"}}\n",
    "collection.update_one(query, newval)\n",
    "\n",
    "print_details(collection.find_one({\"_id\": 26}))"
   ]
  },
  {
   "cell_type": "markdown",
   "metadata": {},
   "source": [
    "## Deletion"
   ]
  },
  {
   "cell_type": "code",
   "execution_count": 34,
   "metadata": {},
   "outputs": [
    {
     "data": {
      "text/plain": [
       "DeleteResult({'n': 1, 'ok': 1.0}, acknowledged=True)"
      ]
     },
     "execution_count": 34,
     "metadata": {},
     "output_type": "execute_result"
    }
   ],
   "source": [
    "query = {\"_id\": 26}\n",
    "collection.delete_one(query)"
   ]
  }
 ],
 "metadata": {
  "kernelspec": {
   "display_name": "Python 3",
   "language": "python",
   "name": "python3"
  },
  "language_info": {
   "codemirror_mode": {
    "name": "ipython",
    "version": 3
   },
   "file_extension": ".py",
   "mimetype": "text/x-python",
   "name": "python",
   "nbconvert_exporter": "python",
   "pygments_lexer": "ipython3",
   "version": "3.11.3"
  }
 },
 "nbformat": 4,
 "nbformat_minor": 2
}
