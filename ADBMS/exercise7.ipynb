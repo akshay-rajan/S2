{
 "cells": [
  {
   "cell_type": "markdown",
   "metadata": {},
   "source": [
    "# PyMongo"
   ]
  },
  {
   "cell_type": "code",
   "execution_count": 1,
   "metadata": {},
   "outputs": [],
   "source": [
    "import pymongo"
   ]
  },
  {
   "cell_type": "markdown",
   "metadata": {},
   "source": [
    "### Connection"
   ]
  },
  {
   "cell_type": "code",
   "execution_count": 3,
   "metadata": {},
   "outputs": [],
   "source": [
    "url = \"mongodb://localhost:27017\"\n",
    "client = pymongo.MongoClient(url)\n",
    "db = client[\"college\"]\n",
    "collection = db[\"studlist\"]"
   ]
  },
  {
   "cell_type": "markdown",
   "metadata": {},
   "source": [
    "### Display"
   ]
  },
  {
   "cell_type": "code",
   "execution_count": 21,
   "metadata": {},
   "outputs": [
    {
     "name": "stdout",
     "output_type": "stream",
     "text": [
      "{'_id': 1, 'name': {'fname': 'Athira', 'lname': 'Krishnan'}, 'address': {'house_name': 'Ambadi', 'city': 'Kollam'}, 'gender': 'female', 'course': 'MCA', 'mark': 80, 'grade': 'A', 'phone': {'type': 'mobile', 'no': 9896321450}}\n",
      "{'_id': 2, 'name': {'fname': 'Arya', 'lname': 'S'}, 'address': {'house_name': 'M.B.S.Bhavan', 'city': 'Varkala'}, 'gender': 'female', 'course': 'Computer Science', 'mark': 90, 'grade': 'A+', 'phone': {'type': 'mobile', 'no': 9446321420}}\n",
      "{'_id': 3, 'name': {'fname': 'Varun', 'lname': 'Nair'}, 'address': {'house_name': 'Koustubham', 'city': 'Thiruvananthapuram'}, 'gender': 'male', 'course': 'MCA', 'mark': 70, 'grade': 'B+', 'phone': {'type': 'land', 'no': '04712662690'}}\n",
      "{'_id': 4, 'name': {'fname': 'Vidhya', 'lname': 'S'}, 'address': {'house_name': 'MRS House', 'city': 'Kadakkavoor'}, 'gender': 'female', 'course': 'Civil', 'mark': 85, 'grade': 'A', 'phone': {'type': 'mobile', 'no': 8146321420}}\n",
      "{'_id': 5, 'name': {'fname': 'Karthik', 'lname': 'MS'}, 'address': {'house_name': 'Devi', 'city': 'Thiruvananthapuram'}, 'gender': 'male', 'course': 'MCA', 'mark': 60, 'grade': 'B', 'phone': {'type': 'land', 'no': '04712663890'}}\n",
      "{'_id': 6, 'name': {'fname': 'Yadu', 'lname': 'Kannan'}, 'address': {'house_name': 'Sreenilayam', 'city': 'Kollam'}, 'gender': 'male', 'course': 'Mechanical', 'mark': 85, 'grade': 'A', 'phone': {'type': 'mobile', 'no': 9446321780}}\n",
      "{'_id': 7, 'name': {'fname': 'Vivek', 'lname': 'Bose'}, 'address': {'house_name': 'Kallu', 'city': 'Ernakulam'}, 'gender': 'male', 'course': 'MCA', 'mark': 60, 'grade': 'B', 'phone': {'type': 'land', 'no': '04842663890'}}\n",
      "{'_id': 8, 'name': {'fname': 'Kavya', 'lname': 'Mohan'}, 'address': {'house_name': 'Kavyanjali', 'city': 'Kollam'}, 'gender': 'female', 'course': 'Mechanical', 'mark': 95, 'grade': 'A+', 'phone': {'type': 'mobile', 'no': 9448399780}}\n",
      "{'_id': 9, 'name': {'fname': 'Divya', 'lname': 'Vijayan'}, 'address': {'house_name': 'Divyalayam', 'city': 'Varkala'}, 'gender': 'female', 'course': 'MCA', 'mark': 70, 'grade': 'B+', 'phone': {'type': 'land', 'no': '04702667890'}}\n",
      "{'_id': 10, 'name': {'fname': 'Vimal', 'lname': 'Vinayan'}, 'address': {'house_name': 'Vimala Bhavan', 'city': 'Kollam'}, 'gender': 'male', 'course': 'Mechanical', 'mark': 90, 'grade': 'A+', 'phone': {'type': 'mobile', 'no': 8185399780}}\n",
      "{'_id': 11, 'name': {'fname': 'Renuka', 'lname': 'Vijayan'}, 'address': {'house_name': 'Sreevilasam', 'city': 'Thiruvananthapuram'}, 'gender': 'female', 'course': 'MCA', 'mark': 82, 'grade': 'A', 'phone': {'type': 'land', 'no': '04712547890'}}\n",
      "{'_id': 12, 'name': {'fname': 'Vimal', 'lname': 'Bose'}, 'address': {'house_name': 'Vimalam', 'city': 'Ernakulam'}, 'gender': 'male', 'course': 'MCA', 'mark': 90, 'grade': 'A+', 'phone': {'type': 'mobile', 'no': 9485399780}}\n",
      "{'_id': 13, 'name': {'fname': 'Remya', 'lname': 'V'}, 'address': {'house_name': 'Sree', 'city': 'Thiruvananthapuram'}, 'gender': 'female', 'course': 'MCA', 'mark': 85, 'grade': 'A', 'phone': {'type': 'land', 'no': '04712647890'}}\n",
      "{'_id': 14, 'name': {'fname': 'Vinod', 'lname': 'Paniker'}, 'address': {'house_name': 'Deepam', 'city': 'Ernakulam'}, 'gender': 'male', 'course': 'MCA', 'mark': 70, 'grade': 'B', 'phone': {'type': 'mobile', 'no': 9445399787}}\n",
      "{'_id': 15, 'name': {'fname': 'Remya', 'lname': 'Sugunan'}, 'address': {'house_name': 'Remya vilasam', 'city': 'Thiruvananthapuram'}, 'gender': 'female', 'course': 'MCA', 'mark': 72, 'grade': 'B+', 'phone': {'type': 'land', 'no': '04712648890'}}\n",
      "{'_id': 16, 'name': {'fname': 'Jabin', 'lname': 'S'}, 'address': {'house_name': 'Deepam', 'city': 'Kollam'}, 'gender': 'male', 'course': 'Civil', 'mark': 70, 'grade': 'B', 'phone': {'type': 'mobile', 'no': 9485399787}}\n",
      "{'_id': 17, 'name': {'fname': 'Vidhya', 'lname': 'Sugunan'}, 'address': {'house_name': 'vidhya vilasam', 'city': 'Thiruvananthapuram'}, 'gender': 'female', 'course': 'MCA', 'mark': 79, 'grade': 'B+', 'phone': {'type': 'land', 'no': '04712647790'}}\n",
      "{'_id': 18, 'name': {'fname': 'Arya', 'lname': 'Satheesh'}, 'address': {'house_name': 'Arya Bhavan', 'city': 'Kollam'}, 'gender': 'female', 'course': 'Civil', 'mark': 90, 'grade': 'A+', 'phone': {'type': 'mobile', 'no': 9445399787}}\n",
      "{'_id': 19, 'name': {'fname': 'Soorya', 'lname': 'S'}, 'address': {'house_name': 'Meena Bhavan', 'city': 'Thiruvananthapuram'}, 'gender': 'female', 'course': 'MCA', 'mark': 79, 'grade': 'B+', 'phone': {'type': 'land', 'no': '04712647890'}}\n",
      "{'_id': 21, 'name': {'fname': 'Soorya', 'lname': 'P'}, 'address': {'house_name': 'Soorya Bhavan', 'city': 'Thiruvananthapuram'}, 'gender': 'female', 'course': 'MCA', 'mark': 74, 'grade': 'B+', 'phone': {'type': 'land', 'no': '04712641890'}}\n",
      "{'_id': 22, 'name': {'fname': 'Arun', 'lname': 'S'}, 'address': {'house_name': 'Arun Bhavan', 'city': 'Attingal'}, 'gender': 'male', 'course': 'MCA', 'mark': 91, 'grade': 'A+', 'phone': {'type': 'mobile', 'no': 9445366987}}\n",
      "{'_id': 23, 'name': {'fname': 'Sayooj', 'lname': 'Kiran'}, 'address': {'house_name': 'Kiran Bhavan', 'city': 'Thiruvananthapuram'}, 'gender': 'male', 'course': 'Civil', 'mark': 74, 'grade': 'B+', 'phone': {'type': 'land', 'no': '04712721890'}}\n",
      "{'_id': 24, 'name': {'fname': 'Abhilash', 'lname': 'S'}, 'address': {'house_name': 'Dhanya Bhavan', 'city': 'Attingal'}, 'gender': 'male', 'course': 'Mechanical', 'mark': 75, 'grade': 'B+', 'phone': {'type': 'mobile', 'no': 8182366987}}\n",
      "{'_id': 25, 'name': {'fname': 'Sree', 'lname': 'Raj'}, 'address': {'house_name': 'Sree', 'city': 'Varkala'}, 'gender': 'male', 'course': 'Civil', 'mark': 74, 'grade': 'B+', 'phone': {'type': 'land', 'no': '04702721890'}}\n",
      "{'_id': 20, 'name': {'fname': 'Amritha', 'lname': 'S'}, 'address': {'house_name': 'Arya Bhavan', 'city': 'Varkala'}, 'gender': 'female', 'course': 'MCA', 'mark': 99, 'grade': 'A+', 'phone': {'type': 'mobile', 'no': 9445365787}}\n"
     ]
    }
   ],
   "source": [
    "for student in collection.find():\n",
    "    print(student)"
   ]
  },
  {
   "cell_type": "markdown",
   "metadata": {},
   "source": [
    "### Insertion"
   ]
  },
  {
   "cell_type": "code",
   "execution_count": 24,
   "metadata": {},
   "outputs": [
    {
     "name": "stdout",
     "output_type": "stream",
     "text": [
      "{'_id': 26, 'name': {'fname': 'John', 'lname': 'Doe'}, 'address': {'house_name': 'Bhargavinilayam', 'city': 'Madurai'}, 'gender': 'male', 'course': 'MCA', 'mark': 80, 'grade': 'A', 'phone': {'type': 'mobile', 'no': 9445395787}}\n"
     ]
    }
   ],
   "source": [
    "student = {'_id': 26, 'name': {'fname': 'John', 'lname': 'Doe'}, 'address': {'house_name': 'Bhargavinilayam', 'city': 'Madurai'}, 'gender': 'male', 'course': 'MCA', 'mark': 80, 'grade': 'A', 'phone': {'type': 'mobile', 'no': 9445395787}}\n",
    "collection.insert_one(student)\n",
    "\n",
    "print([stud for stud in collection.find({\"_id\": 26})][0])"
   ]
  },
  {
   "cell_type": "markdown",
   "metadata": {},
   "source": [
    "### Updation"
   ]
  },
  {
   "cell_type": "code",
   "execution_count": 25,
   "metadata": {},
   "outputs": [
    {
     "name": "stdout",
     "output_type": "stream",
     "text": [
      "{'_id': 26, 'name': {'fname': 'John', 'lname': 'Doe'}, 'address': {'house_name': 'Bhargavinilayam', 'city': 'Madurai'}, 'gender': 'male', 'course': 'MCA', 'mark': 80, 'grade': 'A', 'phone': {'type': 'mobile', 'no': 9445395787}}\n",
      "{'_id': 26, 'name': {'fname': 'Don', 'lname': 'Doe'}, 'address': {'house_name': 'Bhargavinilayam', 'city': 'Madurai'}, 'gender': 'male', 'course': 'MCA', 'mark': 80, 'grade': 'A', 'phone': {'type': 'mobile', 'no': 9445395787}}\n"
     ]
    }
   ],
   "source": [
    "print([stud for stud in collection.find({\"_id\": 26})][0])\n",
    "\n",
    "query = {\"_id\": 26}\n",
    "newval = {\"$set\": {\"name.fname\": \"Don\"}}\n",
    "collection.update_one(query, newval)\n",
    "\n",
    "print([stud for stud in collection.find({\"_id\": 26})][0])"
   ]
  },
  {
   "cell_type": "markdown",
   "metadata": {},
   "source": [
    "### Deletion"
   ]
  },
  {
   "cell_type": "code",
   "execution_count": 26,
   "metadata": {},
   "outputs": [
    {
     "name": "stdout",
     "output_type": "stream",
     "text": [
      "[]\n"
     ]
    }
   ],
   "source": [
    "query = {\"_id\": 26}\n",
    "collection.delete_one(query)\n",
    "\n",
    "print([stud for stud in collection.find({\"_id\": 26})])"
   ]
  }
 ],
 "metadata": {
  "kernelspec": {
   "display_name": "Python 3",
   "language": "python",
   "name": "python3"
  },
  "language_info": {
   "codemirror_mode": {
    "name": "ipython",
    "version": 3
   },
   "file_extension": ".py",
   "mimetype": "text/x-python",
   "name": "python",
   "nbconvert_exporter": "python",
   "pygments_lexer": "ipython3",
   "version": "3.12.2"
  }
 },
 "nbformat": 4,
 "nbformat_minor": 2
}
